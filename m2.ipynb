{
 "cells": [
  {
   "cell_type": "code",
   "execution_count": 13,
   "outputs": [],
   "source": [
    "import re\n",
    "import numpy as np\n",
    "import pandas as pd\n",
    "from nltk.tokenize import word_tokenize\n",
    "from nltk.corpus import stopwords\n",
    "from nltk.stem import PorterStemmer\n",
    "import m1\n",
    "from ordered_set import OrderedSet\n",
    "import timeit\n",
    "import matplotlib.pyplot as plt\n",
    "\n",
    "def experiment_with_limit():\n",
    "    cleaned_description = m1.get_and_clean_data()[:1000]\n",
    "\n",
    "    cleaned_description = cleaned_description.apply(lambda s: re.sub(r'[^A-Za-z]', ' ', s))\n",
    "    cleaned_description = cleaned_description.apply(lambda s: re.sub(r'\\s+', ' ', s))\n",
    "\n",
    "    tokenized_description = cleaned_description.apply(lambda s: word_tokenize(s))\n",
    "\n",
    "    stop_dict = set(stopwords.words())\n",
    "    sw_removed_description = tokenized_description.apply(lambda s: list(OrderedSet(s) - stop_dict))\n",
    "    sw_removed_description = sw_removed_description.apply(lambda s: [word for word in s if len(word) > 2])\n",
    "\n",
    "    concated = np.unique(np.concatenate([s for s in tokenized_description.values]))\n",
    "    stem_cache = {}\n",
    "    ps = PorterStemmer()\n",
    "    for s in concated:\n",
    "        stem_cache[s] = ps.stem(s)\n",
    "\n",
    "    stemmed_description = sw_removed_description.apply(lambda s: [stem_cache[w] for w in s])\n",
    "\n",
    "    return stemmed_description\n",
    "\n",
    "\n",
    "def experiment_with_out_limit():\n",
    "    cleaned_description = m1.get_and_clean_data()\n",
    "\n",
    "    cleaned_description = cleaned_description.apply(lambda s: re.sub(r'[^A-Za-z]', ' ', s))\n",
    "    cleaned_description = cleaned_description.apply(lambda s: re.sub(r'\\s+', ' ', s))\n",
    "\n",
    "    tokenized_description = cleaned_description.apply(lambda s: word_tokenize(s))\n",
    "\n",
    "    stop_dict = set(stopwords.words())\n",
    "    sw_removed_description = tokenized_description.apply(lambda s: list(OrderedSet(s) - stop_dict))\n",
    "    sw_removed_description = sw_removed_description.apply(lambda s: [word for word in s if len(word) > 2])\n",
    "\n",
    "    concated = np.unique(np.concatenate([s for s in tokenized_description.values]))\n",
    "    stem_cache = {}\n",
    "    ps = PorterStemmer()\n",
    "    for s in concated:\n",
    "        stem_cache[s] = ps.stem(s)\n",
    "\n",
    "    stemmed_description = sw_removed_description.apply(lambda s: [stem_cache[w] for w in s])\n",
    "    return stemmed_description\n"
   ],
   "metadata": {
    "collapsed": false,
    "ExecuteTime": {
     "start_time": "2023-12-09T19:05:32.505620Z",
     "end_time": "2023-12-09T19:05:32.511905Z"
    }
   }
  },
  {
   "cell_type": "markdown",
   "source": [
    "<h1>This is with limit 1000 rows</h1>"
   ],
   "metadata": {
    "collapsed": false
   }
  },
  {
   "cell_type": "code",
   "execution_count": 14,
   "outputs": [
    {
     "name": "stdout",
     "output_type": "stream",
     "text": [
      "     aa  aaa  aadairstrategicstaffcom  aaeeo  aampt  aapeeo  aau  ab  abap  \\\n",
      "0     0    0                        0      0      0       0    0   0     0   \n",
      "1     0    0                        0      0      0       0    0   0     0   \n",
      "2     0    0                        0      0      0       0    0   0     0   \n",
      "3     0    0                        0      0      0       0    0   0     0   \n",
      "4     0    0                        0      0      0       0    0   0     0   \n",
      "..   ..  ...                      ...    ...    ...     ...  ...  ..   ...   \n",
      "995   0    0                        0      0      0       0    0   0     0   \n",
      "996   0    0                        0      0      0       0    0   0     0   \n",
      "997   0    0                        0      0      0       0    0   0     0   \n",
      "998   0    0                        0      0      0       0    0   0     0   \n",
      "999   0    0                        0      0      0       0    0   0     0   \n",
      "\n",
      "     abapworkflow  ...  zeromq  zigbe  zip  zipkin  zone  zookeep  zoom  \\\n",
      "0               0  ...       0      0    0       0     0        0     0   \n",
      "1               0  ...       0      0    0       0     0        0     0   \n",
      "2               0  ...       0      0    0       0     0        0     0   \n",
      "3               0  ...       0      0    0       0     0        0     0   \n",
      "4               0  ...       0      0    0       0     0        0     0   \n",
      "..            ...  ...     ...    ...  ...     ...   ...      ...   ...   \n",
      "995             0  ...       0      0    0       0     0        0     0   \n",
      "996             0  ...       0      0    0       0     0        0     0   \n",
      "997             0  ...       0      0    0       0     0        0     0   \n",
      "998             0  ...       0      0    0       0     0        0     0   \n",
      "999             0  ...       0      0    0       0     0        0     0   \n",
      "\n",
      "     zumba  zuora  zuul  \n",
      "0        0      0     0  \n",
      "1        0      0     0  \n",
      "2        0      0     0  \n",
      "3        0      0     0  \n",
      "4        0      0     0  \n",
      "..     ...    ...   ...  \n",
      "995      0      0     0  \n",
      "996      0      0     0  \n",
      "997      0      0     0  \n",
      "998      0      0     0  \n",
      "999      0      0     0  \n",
      "\n",
      "[1000 rows x 9443 columns]\n",
      "  (0, 1303)\t1\n",
      "  (0, 7727)\t1\n",
      "  (0, 2213)\t3\n",
      "  (0, 6059)\t1\n",
      "  (0, 4700)\t1\n",
      "  (0, 2738)\t2\n",
      "  (0, 8236)\t1\n",
      "  (0, 5153)\t1\n",
      "  (0, 2277)\t2\n",
      "  (0, 5953)\t1\n",
      "  (0, 4115)\t1\n",
      "  (0, 7010)\t1\n",
      "  (0, 2179)\t2\n",
      "  (0, 1447)\t2\n",
      "  (0, 7054)\t2\n",
      "  (0, 9292)\t2\n",
      "  (0, 8754)\t1\n",
      "  (0, 8342)\t3\n",
      "  (0, 2142)\t1\n",
      "  (0, 6590)\t1\n",
      "  (0, 3345)\t1\n",
      "  (0, 1480)\t1\n",
      "  (0, 8348)\t1\n",
      "  (0, 2764)\t1\n",
      "  (0, 1812)\t1\n",
      "  :\t:\n",
      "  (0, 3410)\t1\n",
      "  (0, 4140)\t1\n",
      "  (0, 1254)\t1\n",
      "  (0, 6600)\t1\n",
      "  (0, 4724)\t1\n",
      "  (0, 6971)\t1\n",
      "  (0, 6824)\t1\n",
      "  (0, 41)\t1\n",
      "  (0, 5360)\t1\n",
      "  (0, 106)\t1\n",
      "  (0, 4481)\t1\n",
      "  (0, 4284)\t1\n",
      "  (0, 2495)\t1\n",
      "  (0, 1087)\t1\n",
      "  (0, 2664)\t1\n",
      "  (0, 42)\t1\n",
      "  (0, 5914)\t1\n",
      "  (0, 6709)\t1\n",
      "  (0, 6331)\t1\n",
      "  (0, 1694)\t1\n",
      "  (0, 4900)\t1\n",
      "  (0, 923)\t1\n",
      "  (0, 6342)\t1\n",
      "  (0, 7744)\t1\n",
      "  (0, 6296)\t1\n"
     ]
    }
   ],
   "source": [
    "from sklearn.feature_extraction.text import CountVectorizer\n",
    "stemmed_description = experiment_with_limit()\n",
    "cv = CountVectorizer(analyzer=lambda x: x)\n",
    "X = cv.fit_transform(stemmed_description)\n",
    "print(pd.DataFrame(X.toarray(), columns=cv.get_feature_names_out()))\n",
    "print(X.tocsr()[0, :])\n",
    "XX = X.toarray()\n"
   ],
   "metadata": {
    "collapsed": false,
    "ExecuteTime": {
     "start_time": "2023-12-09T19:05:32.512690Z",
     "end_time": "2023-12-09T19:05:36.442485Z"
    }
   }
  },
  {
   "cell_type": "code",
   "execution_count": 15,
   "outputs": [
    {
     "name": "stdout",
     "output_type": "stream",
     "text": [
      "(1000, 1000)\n"
     ]
    },
    {
     "data": {
      "text/plain": "3.328975082957186"
     },
     "execution_count": 15,
     "metadata": {},
     "output_type": "execute_result"
    }
   ],
   "source": [
    "print(np.shape(np.matmul(X.toarray(), X.toarray().T)))\n",
    "timeit.timeit(lambda: np.matmul(XX, XX.T), number=1)"
   ],
   "metadata": {
    "collapsed": false,
    "ExecuteTime": {
     "start_time": "2023-12-09T19:05:36.443569Z",
     "end_time": "2023-12-09T19:05:43.157689Z"
    }
   }
  },
  {
   "cell_type": "code",
   "execution_count": 16,
   "outputs": [
    {
     "name": "stdout",
     "output_type": "stream",
     "text": [
      "(1000, 1000)\n"
     ]
    },
    {
     "data": {
      "text/plain": "0.0452342500211671"
     },
     "execution_count": 16,
     "metadata": {},
     "output_type": "execute_result"
    }
   ],
   "source": [
    "print(np.shape(X*X.T))\n",
    "timeit.timeit(lambda: X*X.T, number=1)"
   ],
   "metadata": {
    "collapsed": false,
    "ExecuteTime": {
     "start_time": "2023-12-09T19:05:43.157645Z",
     "end_time": "2023-12-09T19:05:43.253297Z"
    }
   }
  },
  {
   "cell_type": "code",
   "execution_count": 17,
   "outputs": [
    {
     "data": {
      "text/plain": "3.344655333358484"
     },
     "execution_count": 17,
     "metadata": {},
     "output_type": "execute_result"
    }
   ],
   "source": [
    "timeit.timeit(lambda: np.matmul(XX, XX.T), number=3)/3"
   ],
   "metadata": {
    "collapsed": false,
    "ExecuteTime": {
     "start_time": "2023-12-09T19:05:43.253564Z",
     "end_time": "2023-12-09T19:05:53.301945Z"
    }
   }
  },
  {
   "cell_type": "code",
   "execution_count": 18,
   "outputs": [
    {
     "data": {
      "text/plain": "0.15474719433890036"
     },
     "execution_count": 18,
     "metadata": {},
     "output_type": "execute_result"
    }
   ],
   "source": [
    "timeit.timeit(lambda: X.todok()*X.T.todok(),number=3)/3"
   ],
   "metadata": {
    "collapsed": false,
    "ExecuteTime": {
     "start_time": "2023-12-09T19:05:53.291673Z",
     "end_time": "2023-12-09T19:05:53.758430Z"
    }
   }
  },
  {
   "cell_type": "code",
   "execution_count": 19,
   "outputs": [
    {
     "data": {
      "text/plain": "0.06974598598511268"
     },
     "execution_count": 19,
     "metadata": {},
     "output_type": "execute_result"
    }
   ],
   "source": [
    "timeit.timeit(lambda: X.tolil()*X.T.tolil(),number=3)/3"
   ],
   "metadata": {
    "collapsed": false,
    "ExecuteTime": {
     "start_time": "2023-12-09T19:05:53.758772Z",
     "end_time": "2023-12-09T19:05:53.970906Z"
    }
   }
  },
  {
   "cell_type": "code",
   "execution_count": 20,
   "outputs": [
    {
     "data": {
      "text/plain": "0.05504419468343258"
     },
     "execution_count": 20,
     "metadata": {},
     "output_type": "execute_result"
    }
   ],
   "source": [
    "timeit.timeit(lambda: X.tocoo()*X.T.tocoo(),number=3)/3"
   ],
   "metadata": {
    "collapsed": false,
    "ExecuteTime": {
     "start_time": "2023-12-09T19:05:53.970779Z",
     "end_time": "2023-12-09T19:05:54.138722Z"
    }
   }
  },
  {
   "cell_type": "code",
   "execution_count": 21,
   "outputs": [
    {
     "data": {
      "text/plain": "0.05266854166984558"
     },
     "execution_count": 21,
     "metadata": {},
     "output_type": "execute_result"
    }
   ],
   "source": [
    "timeit.timeit(lambda: X.tocsc()*X.T.tocsc(),number=3)/3"
   ],
   "metadata": {
    "collapsed": false,
    "ExecuteTime": {
     "start_time": "2023-12-09T19:05:54.139266Z",
     "end_time": "2023-12-09T19:05:54.299645Z"
    }
   }
  },
  {
   "cell_type": "markdown",
   "source": [
    "<h1>Experiement without limit 1000 rows</h1>"
   ],
   "metadata": {
    "collapsed": false
   }
  },
  {
   "cell_type": "code",
   "execution_count": 22,
   "outputs": [
    {
     "name": "stdout",
     "output_type": "stream",
     "text": [
      "      aa  aaa  aaacad  aac  aachen  aad  aadairstrategicstaffcom  aae  aaeeo  \\\n",
      "0      0    0       0    0       0    0                        0    0      0   \n",
      "1      0    0       0    0       0    0                        0    0      0   \n",
      "2      0    0       0    0       0    0                        0    0      0   \n",
      "3      0    0       0    0       0    0                        0    0      0   \n",
      "4      0    0       0    0       0    0                        0    0      0   \n",
      "...   ..  ...     ...  ...     ...  ...                      ...  ...    ...   \n",
      "7578   0    0       0    0       0    0                        0    0      0   \n",
      "7579   0    0       0    0       0    0                        0    0      0   \n",
      "7580   0    0       0    0       0    0                        0    0      0   \n",
      "7581   0    0       0    0       0    0                        0    0      0   \n",
      "7582   0    0       0    0       0    0                        0    0      0   \n",
      "\n",
      "      aaeoe  ...  zthompsonjeffersonfrankcomcal  zumba  zuora  zurn  zurncom  \\\n",
      "0         0  ...                              0      0      0     0        0   \n",
      "1         0  ...                              0      0      0     0        0   \n",
      "2         0  ...                              0      0      0     0        0   \n",
      "3         0  ...                              0      0      0     0        0   \n",
      "4         0  ...                              0      0      0     0        0   \n",
      "...     ...  ...                            ...    ...    ...   ...      ...   \n",
      "7578      0  ...                              0      0      0     0        0   \n",
      "7579      0  ...                              0      0      0     0        0   \n",
      "7580      0  ...                              0      0      0     0        0   \n",
      "7581      0  ...                              0      0      0     0        0   \n",
      "7582      0  ...                              0      0      0     0        0   \n",
      "\n",
      "      zuul  zwave  zycron  zyknekz  zynq  \n",
      "0        0      0       0        0     0  \n",
      "1        0      0       0        0     0  \n",
      "2        0      0       0        0     0  \n",
      "3        0      0       0        0     0  \n",
      "4        0      0       0        0     0  \n",
      "...    ...    ...     ...      ...   ...  \n",
      "7578     0      0       0        0     0  \n",
      "7579     0      0       0        0     0  \n",
      "7580     0      0       0        0     0  \n",
      "7581     0      0       0        0     0  \n",
      "7582     0      0       0        0     0  \n",
      "\n",
      "[7583 rows x 30163 columns]\n",
      "  (0, 4123)\t1\n",
      "  (0, 24364)\t1\n",
      "  (0, 6881)\t3\n",
      "  (0, 19244)\t1\n",
      "  (0, 14796)\t1\n",
      "  (0, 8577)\t2\n",
      "  (0, 26069)\t1\n",
      "  (0, 16210)\t1\n",
      "  (0, 7178)\t2\n",
      "  (0, 18921)\t1\n",
      "  (0, 12939)\t1\n",
      "  (0, 22210)\t1\n",
      "  (0, 6738)\t2\n",
      "  (0, 4579)\t2\n",
      "  (0, 22377)\t2\n",
      "  (0, 29494)\t2\n",
      "  (0, 27732)\t1\n",
      "  (0, 26452)\t3\n",
      "  (0, 6622)\t1\n",
      "  (0, 20937)\t1\n",
      "  (0, 10492)\t1\n",
      "  (0, 4703)\t1\n",
      "  (0, 26470)\t1\n",
      "  (0, 8690)\t1\n",
      "  (0, 5550)\t1\n",
      "  :\t:\n",
      "  (0, 10721)\t1\n",
      "  (0, 13009)\t1\n",
      "  (0, 4004)\t1\n",
      "  (0, 20971)\t1\n",
      "  (0, 14854)\t1\n",
      "  (0, 22019)\t1\n",
      "  (0, 21636)\t1\n",
      "  (0, 151)\t1\n",
      "  (0, 16891)\t1\n",
      "  (0, 336)\t1\n",
      "  (0, 14069)\t1\n",
      "  (0, 13437)\t1\n",
      "  (0, 7846)\t1\n",
      "  (0, 3406)\t1\n",
      "  (0, 8376)\t1\n",
      "  (0, 152)\t1\n",
      "  (0, 18790)\t1\n",
      "  (0, 21336)\t1\n",
      "  (0, 20109)\t1\n",
      "  (0, 5240)\t1\n",
      "  (0, 15422)\t1\n",
      "  (0, 2918)\t1\n",
      "  (0, 20163)\t1\n",
      "  (0, 24438)\t1\n",
      "  (0, 20013)\t1\n"
     ]
    }
   ],
   "source": [
    "from sklearn.feature_extraction.text import CountVectorizer\n",
    "stemmed_description = experiment_with_out_limit()\n",
    "cv = CountVectorizer(analyzer=lambda x: x)\n",
    "X = cv.fit_transform(stemmed_description)\n",
    "print(pd.DataFrame(X.toarray(), columns=cv.get_feature_names_out()))\n",
    "print(X.tocsr()[0, :])\n",
    "XX = X.toarray()"
   ],
   "metadata": {
    "collapsed": false,
    "ExecuteTime": {
     "start_time": "2023-12-09T19:05:54.300305Z",
     "end_time": "2023-12-09T19:06:12.923532Z"
    }
   }
  },
  {
   "cell_type": "code",
   "execution_count": 23,
   "outputs": [
    {
     "name": "stdout",
     "output_type": "stream",
     "text": [
      "(7583, 7583)\n"
     ]
    },
    {
     "data": {
      "text/plain": "610.2729717909824"
     },
     "execution_count": 23,
     "metadata": {},
     "output_type": "execute_result"
    }
   ],
   "source": [
    "print(np.shape(np.matmul(X.toarray(), X.toarray().T)))\n",
    "timeit.timeit(lambda: np.matmul(XX, XX.T), number=1)"
   ],
   "metadata": {
    "collapsed": false,
    "ExecuteTime": {
     "start_time": "2023-12-09T19:06:12.922974Z",
     "end_time": "2023-12-09T19:26:36.563148Z"
    }
   }
  },
  {
   "cell_type": "code",
   "execution_count": 24,
   "outputs": [
    {
     "data": {
      "text/plain": "613.5011905139933"
     },
     "execution_count": 24,
     "metadata": {},
     "output_type": "execute_result"
    }
   ],
   "source": [
    "timeit.timeit(lambda: np.matmul(XX, XX.T), number=3)/3"
   ],
   "metadata": {
    "collapsed": false,
    "ExecuteTime": {
     "start_time": "2023-12-09T19:26:36.565172Z",
     "end_time": "2023-12-09T19:57:17.272436Z"
    }
   }
  },
  {
   "cell_type": "code",
   "execution_count": 25,
   "outputs": [
    {
     "data": {
      "text/plain": "4.4855406666562585"
     },
     "execution_count": 25,
     "metadata": {},
     "output_type": "execute_result"
    }
   ],
   "source": [
    "timeit.timeit(lambda: X.todok()*X.T.todok(),number=3)/3"
   ],
   "metadata": {
    "collapsed": false,
    "ExecuteTime": {
     "start_time": "2023-12-09T19:57:17.271779Z",
     "end_time": "2023-12-09T19:57:30.730701Z"
    }
   }
  },
  {
   "cell_type": "code",
   "execution_count": 26,
   "outputs": [
    {
     "data": {
      "text/plain": "3.491946680316081"
     },
     "execution_count": 26,
     "metadata": {},
     "output_type": "execute_result"
    }
   ],
   "source": [
    "timeit.timeit(lambda: X.tolil()*X.T.tolil(),number=3)/3"
   ],
   "metadata": {
    "collapsed": false,
    "ExecuteTime": {
     "start_time": "2023-12-09T19:57:30.732341Z",
     "end_time": "2023-12-09T19:57:41.210004Z"
    }
   }
  },
  {
   "cell_type": "code",
   "execution_count": 27,
   "outputs": [
    {
     "data": {
      "text/plain": "3.3797706390032545"
     },
     "execution_count": 27,
     "metadata": {},
     "output_type": "execute_result"
    }
   ],
   "source": [
    "timeit.timeit(lambda: X.tocoo()*X.T.tocoo(),number=3)/3"
   ],
   "metadata": {
    "collapsed": false,
    "ExecuteTime": {
     "start_time": "2023-12-09T19:57:41.212879Z",
     "end_time": "2023-12-09T19:57:51.355042Z"
    }
   }
  },
  {
   "cell_type": "code",
   "execution_count": 28,
   "outputs": [
    {
     "data": {
      "text/plain": "3.3694436529961727"
     },
     "execution_count": 28,
     "metadata": {},
     "output_type": "execute_result"
    }
   ],
   "source": [
    "timeit.timeit(lambda: X.tocsc()*X.T.tocsc(),number=3)/3"
   ],
   "metadata": {
    "collapsed": false,
    "ExecuteTime": {
     "start_time": "2023-12-09T19:57:51.355262Z",
     "end_time": "2023-12-09T19:58:01.466381Z"
    }
   }
  }
 ],
 "metadata": {
  "kernelspec": {
   "display_name": "Python 3",
   "language": "python",
   "name": "python3"
  },
  "language_info": {
   "codemirror_mode": {
    "name": "ipython",
    "version": 2
   },
   "file_extension": ".py",
   "mimetype": "text/x-python",
   "name": "python",
   "nbconvert_exporter": "python",
   "pygments_lexer": "ipython2",
   "version": "2.7.6"
  }
 },
 "nbformat": 4,
 "nbformat_minor": 0
}
