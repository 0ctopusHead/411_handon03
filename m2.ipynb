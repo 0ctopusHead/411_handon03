{
 "cells": [
  {
   "cell_type": "code",
   "execution_count": 12,
   "outputs": [],
   "source": [
    "import re\n",
    "import numpy as np\n",
    "import pandas as pd\n",
    "from nltk.tokenize import word_tokenize\n",
    "from nltk.corpus import stopwords\n",
    "from nltk.stem import PorterStemmer\n",
    "import m1\n",
    "from ordered_set import OrderedSet\n",
    "import timeit\n",
    "import matplotlib.pyplot as plt\n",
    "\n",
    "def walkthrough_1():\n",
    "    cleaned_description = m1.get_and_clean_data()\n",
    "\n",
    "    cleaned_description = cleaned_description.apply(lambda s: re.sub(r'[^A-Za-z]', ' ', s))\n",
    "    cleaned_description = cleaned_description.apply(lambda s: re.sub(r'\\s+', ' ', s))\n",
    "\n",
    "    tokenized_description = cleaned_description.apply(lambda s: word_tokenize(s))\n",
    "\n",
    "    stop_dict = set(stopwords.words())\n",
    "    sw_removed_description = tokenized_description.apply(lambda s: list(OrderedSet(s) - stop_dict))\n",
    "    sw_removed_description = sw_removed_description.apply(lambda s: [word for word in s if len(word) > 2])\n",
    "\n",
    "    concated = np.unique(np.concatenate([s for s in tokenized_description.values]))\n",
    "    stem_cache = {}\n",
    "    ps = PorterStemmer()\n",
    "    for s in concated:\n",
    "        stem_cache[s] = ps.stem(s)\n",
    "\n",
    "    stemmed_description = sw_removed_description.apply(lambda s: [stem_cache[w] for w in s])\n",
    "\n",
    "    return stemmed_description\n",
    "\n",
    "\n",
    "def m2_elapsed_experiment_set(n_col):\n",
    "    cleaned_description = m1.get_and_clean_data()[:n_col]\n",
    "\n",
    "    cleaned_description = cleaned_description.apply(lambda s: re.sub(r'[^A-Za-z]', ' ', s))\n",
    "    cleaned_description = cleaned_description.apply(lambda s: re.sub(r'\\s+', ' ', s))\n",
    "\n",
    "    tokenized_description = cleaned_description.apply(lambda s: word_tokenize(s))\n",
    "\n",
    "    stop_dict = set(stopwords.words())\n",
    "    sw_removed_description = tokenized_description.apply(lambda s: list(OrderedSet(s) - stop_dict))\n",
    "    sw_removed_description = sw_removed_description.apply(lambda s: [word for word in s if len(word) > 2])\n",
    "\n",
    "    concated = np.unique(np.concatenate([s for s in tokenized_description.values]))\n",
    "    stem_cache = {}\n",
    "    ps = PorterStemmer()\n",
    "    for s in concated:\n",
    "        stem_cache[s] = ps.stem(s)\n",
    "\n",
    "    stemmed_description = sw_removed_description.apply(lambda s: [stem_cache[w] for w in s])\n",
    "    return stemmed_description\n"
   ],
   "metadata": {
    "collapsed": false,
    "ExecuteTime": {
     "start_time": "2023-12-09T18:56:08.437604Z",
     "end_time": "2023-12-09T18:56:08.444251Z"
    }
   }
  },
  {
   "cell_type": "code",
   "execution_count": 27,
   "outputs": [],
   "source": [
    "def m2_elapsed_experiment_list(n_col):\n",
    "    cleaned_description = m1.get_and_clean_data()[:n_col]\n",
    "\n",
    "    cleaned_description = cleaned_description.apply(lambda s: re.sub(r'[^A-Za-z]', ' ', s))\n",
    "    cleaned_description = cleaned_description.apply(lambda s: re.sub(r'\\s+', ' ', s))\n",
    "\n",
    "    tokenized_description = cleaned_description.apply(lambda s: word_tokenize(s))\n",
    "\n",
    "    stop_dict = list(stopwords.words())\n",
    "    sw_removed_description = tokenized_description.apply(lambda s: [word for word in s if word not in stop_dict])\n",
    "    sw_removed_description = sw_removed_description.apply(lambda s: [word for word in s if len(word) > 2])\n",
    "\n",
    "    concated = np.unique(np.concatenate([s for s in tokenized_description.values]))\n",
    "    stem_cache = {}\n",
    "    ps = PorterStemmer()\n",
    "    for s in concated:\n",
    "        stem_cache[s] = ps.stem(s)\n",
    "\n",
    "    stemmed_description = sw_removed_description.apply(lambda s: [stem_cache[w] for w in s])\n",
    "    return stemmed_description"
   ],
   "metadata": {
    "collapsed": false
   }
  },
  {
   "cell_type": "code",
   "execution_count": 4,
   "outputs": [
    {
     "name": "stdout",
     "output_type": "stream",
     "text": [
      "     aa  aaa  aadairstrategicstaffcom  aaeeo  aampt  aapeeo  aau  ab  abap  \\\n",
      "0     0    0                        0      0      0       0    0   0     0   \n",
      "1     0    0                        0      0      0       0    0   0     0   \n",
      "2     0    0                        0      0      0       0    0   0     0   \n",
      "3     0    0                        0      0      0       0    0   0     0   \n",
      "4     0    0                        0      0      0       0    0   0     0   \n",
      "..   ..  ...                      ...    ...    ...     ...  ...  ..   ...   \n",
      "995   0    0                        0      0      0       0    0   0     0   \n",
      "996   0    0                        0      0      0       0    0   0     0   \n",
      "997   0    0                        0      0      0       0    0   0     0   \n",
      "998   0    0                        0      0      0       0    0   0     0   \n",
      "999   0    0                        0      0      0       0    0   0     0   \n",
      "\n",
      "     abapworkflow  ...  zeromq  zigbe  zip  zipkin  zone  zookeep  zoom  \\\n",
      "0               0  ...       0      0    0       0     0        0     0   \n",
      "1               0  ...       0      0    0       0     0        0     0   \n",
      "2               0  ...       0      0    0       0     0        0     0   \n",
      "3               0  ...       0      0    0       0     0        0     0   \n",
      "4               0  ...       0      0    0       0     0        0     0   \n",
      "..            ...  ...     ...    ...  ...     ...   ...      ...   ...   \n",
      "995             0  ...       0      0    0       0     0        0     0   \n",
      "996             0  ...       0      0    0       0     0        0     0   \n",
      "997             0  ...       0      0    0       0     0        0     0   \n",
      "998             0  ...       0      0    0       0     0        0     0   \n",
      "999             0  ...       0      0    0       0     0        0     0   \n",
      "\n",
      "     zumba  zuora  zuul  \n",
      "0        0      0     0  \n",
      "1        0      0     0  \n",
      "2        0      0     0  \n",
      "3        0      0     0  \n",
      "4        0      0     0  \n",
      "..     ...    ...   ...  \n",
      "995      0      0     0  \n",
      "996      0      0     0  \n",
      "997      0      0     0  \n",
      "998      0      0     0  \n",
      "999      0      0     0  \n",
      "\n",
      "[1000 rows x 9443 columns]\n",
      "  (0, 1303)\t1\n",
      "  (0, 7727)\t1\n",
      "  (0, 2213)\t3\n",
      "  (0, 6059)\t1\n",
      "  (0, 4700)\t1\n",
      "  (0, 2738)\t2\n",
      "  (0, 8236)\t1\n",
      "  (0, 5153)\t1\n",
      "  (0, 2277)\t2\n",
      "  (0, 5953)\t1\n",
      "  (0, 4115)\t1\n",
      "  (0, 7010)\t1\n",
      "  (0, 2179)\t2\n",
      "  (0, 1447)\t2\n",
      "  (0, 7054)\t2\n",
      "  (0, 9292)\t2\n",
      "  (0, 8754)\t1\n",
      "  (0, 8342)\t3\n",
      "  (0, 2142)\t1\n",
      "  (0, 6590)\t1\n",
      "  (0, 3345)\t1\n",
      "  (0, 1480)\t1\n",
      "  (0, 8348)\t1\n",
      "  (0, 2764)\t1\n",
      "  (0, 1812)\t1\n",
      "  :\t:\n",
      "  (0, 3410)\t1\n",
      "  (0, 4140)\t1\n",
      "  (0, 1254)\t1\n",
      "  (0, 6600)\t1\n",
      "  (0, 4724)\t1\n",
      "  (0, 6971)\t1\n",
      "  (0, 6824)\t1\n",
      "  (0, 41)\t1\n",
      "  (0, 5360)\t1\n",
      "  (0, 106)\t1\n",
      "  (0, 4481)\t1\n",
      "  (0, 4284)\t1\n",
      "  (0, 2495)\t1\n",
      "  (0, 1087)\t1\n",
      "  (0, 2664)\t1\n",
      "  (0, 42)\t1\n",
      "  (0, 5914)\t1\n",
      "  (0, 6709)\t1\n",
      "  (0, 6331)\t1\n",
      "  (0, 1694)\t1\n",
      "  (0, 4900)\t1\n",
      "  (0, 923)\t1\n",
      "  (0, 6342)\t1\n",
      "  (0, 7744)\t1\n",
      "  (0, 6296)\t1\n"
     ]
    }
   ],
   "source": [
    "from sklearn.feature_extraction.text import CountVectorizer\n",
    "stemmed_description = walkthrough_1()\n",
    "cv = CountVectorizer(analyzer=lambda x: x)\n",
    "X = cv.fit_transform(stemmed_description)\n",
    "print(pd.DataFrame(X.toarray(), columns=cv.get_feature_names_out()))\n",
    "print(X.tocsr()[0, :])\n",
    "XX = X.toarray()\n"
   ],
   "metadata": {
    "collapsed": false,
    "ExecuteTime": {
     "start_time": "2023-12-09T18:52:25.226562Z",
     "end_time": "2023-12-09T18:52:29.141367Z"
    }
   }
  },
  {
   "cell_type": "code",
   "execution_count": 5,
   "outputs": [
    {
     "name": "stdout",
     "output_type": "stream",
     "text": [
      "(1000, 1000)\n"
     ]
    },
    {
     "data": {
      "text/plain": "3.4124976249877363"
     },
     "execution_count": 5,
     "metadata": {},
     "output_type": "execute_result"
    }
   ],
   "source": [
    "print(np.shape(np.matmul(X.toarray(), X.toarray().T)))\n",
    "timeit.timeit(lambda: np.matmul(XX, XX.T), number=1)"
   ],
   "metadata": {
    "collapsed": false,
    "ExecuteTime": {
     "start_time": "2023-12-09T18:52:31.974818Z",
     "end_time": "2023-12-09T18:52:38.902458Z"
    }
   }
  },
  {
   "cell_type": "code",
   "execution_count": 6,
   "outputs": [
    {
     "name": "stdout",
     "output_type": "stream",
     "text": [
      "(1000, 1000)\n"
     ]
    },
    {
     "data": {
      "text/plain": "0.046704333974048495"
     },
     "execution_count": 6,
     "metadata": {},
     "output_type": "execute_result"
    }
   ],
   "source": [
    "print(np.shape(X*X.T))\n",
    "timeit.timeit(lambda: X*X.T, number=1)"
   ],
   "metadata": {
    "collapsed": false,
    "ExecuteTime": {
     "start_time": "2023-12-09T18:52:38.900656Z",
     "end_time": "2023-12-09T18:52:38.998691Z"
    }
   }
  },
  {
   "cell_type": "code",
   "execution_count": 7,
   "outputs": [
    {
     "data": {
      "text/plain": "3.4142512639906877"
     },
     "execution_count": 7,
     "metadata": {},
     "output_type": "execute_result"
    }
   ],
   "source": [
    "timeit.timeit(lambda: np.matmul(XX, XX.T), number=3)/3"
   ],
   "metadata": {
    "collapsed": false,
    "ExecuteTime": {
     "start_time": "2023-12-09T18:52:38.997875Z",
     "end_time": "2023-12-09T18:52:49.244291Z"
    }
   }
  },
  {
   "cell_type": "code",
   "execution_count": 8,
   "outputs": [
    {
     "data": {
      "text/plain": "0.15627698600292206"
     },
     "execution_count": 8,
     "metadata": {},
     "output_type": "execute_result"
    }
   ],
   "source": [
    "timeit.timeit(lambda: X.todok()*X.T.todok(),number=3)/3"
   ],
   "metadata": {
    "collapsed": false,
    "ExecuteTime": {
     "start_time": "2023-12-09T18:52:49.243966Z",
     "end_time": "2023-12-09T18:52:49.716853Z"
    }
   }
  },
  {
   "cell_type": "code",
   "execution_count": 9,
   "outputs": [
    {
     "data": {
      "text/plain": "0.06793938864332934"
     },
     "execution_count": 9,
     "metadata": {},
     "output_type": "execute_result"
    }
   ],
   "source": [
    "timeit.timeit(lambda: X.tolil()*X.T.tolil(),number=3)/3"
   ],
   "metadata": {
    "collapsed": false,
    "ExecuteTime": {
     "start_time": "2023-12-09T18:52:49.716188Z",
     "end_time": "2023-12-09T18:52:49.923921Z"
    }
   }
  },
  {
   "cell_type": "code",
   "execution_count": 10,
   "outputs": [
    {
     "data": {
      "text/plain": "0.05513002766141047"
     },
     "execution_count": 10,
     "metadata": {},
     "output_type": "execute_result"
    }
   ],
   "source": [
    "timeit.timeit(lambda: X.tocoo()*X.T.tocoo(),number=3)/3"
   ],
   "metadata": {
    "collapsed": false,
    "ExecuteTime": {
     "start_time": "2023-12-09T18:52:49.922996Z",
     "end_time": "2023-12-09T18:52:50.092398Z"
    }
   }
  },
  {
   "cell_type": "code",
   "execution_count": 11,
   "outputs": [
    {
     "data": {
      "text/plain": "0.05312065267935395"
     },
     "execution_count": 11,
     "metadata": {},
     "output_type": "execute_result"
    }
   ],
   "source": [
    "timeit.timeit(lambda: X.tocsc()*X.T.tocsc(),number=3)/3"
   ],
   "metadata": {
    "collapsed": false,
    "ExecuteTime": {
     "start_time": "2023-12-09T18:52:50.091692Z",
     "end_time": "2023-12-09T18:52:50.254237Z"
    }
   }
  },
  {
   "cell_type": "code",
   "execution_count": 28,
   "outputs": [
    {
     "name": "stdout",
     "output_type": "stream",
     "text": [
      "500\n",
      "1000\n",
      "1500\n",
      "2000\n",
      "2500\n",
      "3000\n",
      "3500\n",
      "4000\n",
      "4500\n",
      "5000\n",
      "5500\n",
      "6000\n",
      "6500\n",
      "7000\n",
      "7500\n"
     ]
    }
   ],
   "source": [
    "set_exp = {}\n",
    "list_exp = {}\n",
    "\n",
    "for w in range(500, 3001, 500):\n",
    "    print(w)\n",
    "    set_exp[w] = timeit.timeit(lambda : m2_elapsed_experiment_set(w), number=1)\n",
    "    list_exp[w] = timeit.timeit(lambda :m2_elapsed_experiment_list(w), number=1)\n"
   ],
   "metadata": {
    "collapsed": false
   }
  },
  {
   "cell_type": "code",
   "execution_count": 29,
   "outputs": [
    {
     "data": {
      "text/plain": "      set experiment\n500         3.159356\n1000        3.685426\n1500        4.440435\n2000        5.229452\n2500        6.135759\n3000        7.145224\n3500        8.605086\n4000        9.643771\n4500       11.208367\n5000       12.026084\n5500       13.179871\n6000       14.077371\n6500       15.338965\n7000       16.244637\n7500       16.830632",
      "text/html": "<div>\n<style scoped>\n    .dataframe tbody tr th:only-of-type {\n        vertical-align: middle;\n    }\n\n    .dataframe tbody tr th {\n        vertical-align: top;\n    }\n\n    .dataframe thead th {\n        text-align: right;\n    }\n</style>\n<table border=\"1\" class=\"dataframe\">\n  <thead>\n    <tr style=\"text-align: right;\">\n      <th></th>\n      <th>set experiment</th>\n    </tr>\n  </thead>\n  <tbody>\n    <tr>\n      <th>500</th>\n      <td>3.159356</td>\n    </tr>\n    <tr>\n      <th>1000</th>\n      <td>3.685426</td>\n    </tr>\n    <tr>\n      <th>1500</th>\n      <td>4.440435</td>\n    </tr>\n    <tr>\n      <th>2000</th>\n      <td>5.229452</td>\n    </tr>\n    <tr>\n      <th>2500</th>\n      <td>6.135759</td>\n    </tr>\n    <tr>\n      <th>3000</th>\n      <td>7.145224</td>\n    </tr>\n    <tr>\n      <th>3500</th>\n      <td>8.605086</td>\n    </tr>\n    <tr>\n      <th>4000</th>\n      <td>9.643771</td>\n    </tr>\n    <tr>\n      <th>4500</th>\n      <td>11.208367</td>\n    </tr>\n    <tr>\n      <th>5000</th>\n      <td>12.026084</td>\n    </tr>\n    <tr>\n      <th>5500</th>\n      <td>13.179871</td>\n    </tr>\n    <tr>\n      <th>6000</th>\n      <td>14.077371</td>\n    </tr>\n    <tr>\n      <th>6500</th>\n      <td>15.338965</td>\n    </tr>\n    <tr>\n      <th>7000</th>\n      <td>16.244637</td>\n    </tr>\n    <tr>\n      <th>7500</th>\n      <td>16.830632</td>\n    </tr>\n  </tbody>\n</table>\n</div>"
     },
     "execution_count": 29,
     "metadata": {},
     "output_type": "execute_result"
    }
   ],
   "source": [
    "pd.DataFrame.from_dict(set_exp, orient='index',columns=['set experiment'])"
   ],
   "metadata": {
    "collapsed": false
   }
  },
  {
   "cell_type": "code",
   "execution_count": 30,
   "outputs": [
    {
     "data": {
      "text/plain": "      list experiment\n500         11.035794\n1000        20.106906\n1500        30.474076\n2000        39.761486\n2500        52.077398\n3000        65.496458\n3500        82.743964\n4000        94.150850\n4500       110.898031\n5000       125.233885\n5500       141.296254\n6000       149.530758\n6500       161.430024\n7000       169.975067\n7500       177.501426",
      "text/html": "<div>\n<style scoped>\n    .dataframe tbody tr th:only-of-type {\n        vertical-align: middle;\n    }\n\n    .dataframe tbody tr th {\n        vertical-align: top;\n    }\n\n    .dataframe thead th {\n        text-align: right;\n    }\n</style>\n<table border=\"1\" class=\"dataframe\">\n  <thead>\n    <tr style=\"text-align: right;\">\n      <th></th>\n      <th>list experiment</th>\n    </tr>\n  </thead>\n  <tbody>\n    <tr>\n      <th>500</th>\n      <td>11.035794</td>\n    </tr>\n    <tr>\n      <th>1000</th>\n      <td>20.106906</td>\n    </tr>\n    <tr>\n      <th>1500</th>\n      <td>30.474076</td>\n    </tr>\n    <tr>\n      <th>2000</th>\n      <td>39.761486</td>\n    </tr>\n    <tr>\n      <th>2500</th>\n      <td>52.077398</td>\n    </tr>\n    <tr>\n      <th>3000</th>\n      <td>65.496458</td>\n    </tr>\n    <tr>\n      <th>3500</th>\n      <td>82.743964</td>\n    </tr>\n    <tr>\n      <th>4000</th>\n      <td>94.150850</td>\n    </tr>\n    <tr>\n      <th>4500</th>\n      <td>110.898031</td>\n    </tr>\n    <tr>\n      <th>5000</th>\n      <td>125.233885</td>\n    </tr>\n    <tr>\n      <th>5500</th>\n      <td>141.296254</td>\n    </tr>\n    <tr>\n      <th>6000</th>\n      <td>149.530758</td>\n    </tr>\n    <tr>\n      <th>6500</th>\n      <td>161.430024</td>\n    </tr>\n    <tr>\n      <th>7000</th>\n      <td>169.975067</td>\n    </tr>\n    <tr>\n      <th>7500</th>\n      <td>177.501426</td>\n    </tr>\n  </tbody>\n</table>\n</div>"
     },
     "execution_count": 30,
     "metadata": {},
     "output_type": "execute_result"
    }
   ],
   "source": [
    "pd.DataFrame.from_dict(list_exp, orient='index', columns=['list experiment'])"
   ],
   "metadata": {
    "collapsed": false
   }
  },
  {
   "cell_type": "code",
   "execution_count": 31,
   "outputs": [],
   "source": [
    "compare = pd.concat([pd.DataFrame.from_dict(set_exp, orient='index',columns=['set experiment']), pd.DataFrame.from_dict(list_exp, orient='index', columns=['list experiment'])],axis=1)"
   ],
   "metadata": {
    "collapsed": false
   }
  },
  {
   "cell_type": "code",
   "execution_count": 32,
   "outputs": [
    {
     "data": {
      "text/plain": "      set experiment  list experiment\n500         3.159356        11.035794\n1000        3.685426        20.106906\n1500        4.440435        30.474076\n2000        5.229452        39.761486\n2500        6.135759        52.077398\n3000        7.145224        65.496458\n3500        8.605086        82.743964\n4000        9.643771        94.150850\n4500       11.208367       110.898031\n5000       12.026084       125.233885\n5500       13.179871       141.296254\n6000       14.077371       149.530758\n6500       15.338965       161.430024\n7000       16.244637       169.975067\n7500       16.830632       177.501426",
      "text/html": "<div>\n<style scoped>\n    .dataframe tbody tr th:only-of-type {\n        vertical-align: middle;\n    }\n\n    .dataframe tbody tr th {\n        vertical-align: top;\n    }\n\n    .dataframe thead th {\n        text-align: right;\n    }\n</style>\n<table border=\"1\" class=\"dataframe\">\n  <thead>\n    <tr style=\"text-align: right;\">\n      <th></th>\n      <th>set experiment</th>\n      <th>list experiment</th>\n    </tr>\n  </thead>\n  <tbody>\n    <tr>\n      <th>500</th>\n      <td>3.159356</td>\n      <td>11.035794</td>\n    </tr>\n    <tr>\n      <th>1000</th>\n      <td>3.685426</td>\n      <td>20.106906</td>\n    </tr>\n    <tr>\n      <th>1500</th>\n      <td>4.440435</td>\n      <td>30.474076</td>\n    </tr>\n    <tr>\n      <th>2000</th>\n      <td>5.229452</td>\n      <td>39.761486</td>\n    </tr>\n    <tr>\n      <th>2500</th>\n      <td>6.135759</td>\n      <td>52.077398</td>\n    </tr>\n    <tr>\n      <th>3000</th>\n      <td>7.145224</td>\n      <td>65.496458</td>\n    </tr>\n    <tr>\n      <th>3500</th>\n      <td>8.605086</td>\n      <td>82.743964</td>\n    </tr>\n    <tr>\n      <th>4000</th>\n      <td>9.643771</td>\n      <td>94.150850</td>\n    </tr>\n    <tr>\n      <th>4500</th>\n      <td>11.208367</td>\n      <td>110.898031</td>\n    </tr>\n    <tr>\n      <th>5000</th>\n      <td>12.026084</td>\n      <td>125.233885</td>\n    </tr>\n    <tr>\n      <th>5500</th>\n      <td>13.179871</td>\n      <td>141.296254</td>\n    </tr>\n    <tr>\n      <th>6000</th>\n      <td>14.077371</td>\n      <td>149.530758</td>\n    </tr>\n    <tr>\n      <th>6500</th>\n      <td>15.338965</td>\n      <td>161.430024</td>\n    </tr>\n    <tr>\n      <th>7000</th>\n      <td>16.244637</td>\n      <td>169.975067</td>\n    </tr>\n    <tr>\n      <th>7500</th>\n      <td>16.830632</td>\n      <td>177.501426</td>\n    </tr>\n  </tbody>\n</table>\n</div>"
     },
     "execution_count": 32,
     "metadata": {},
     "output_type": "execute_result"
    }
   ],
   "source": [
    "compare"
   ],
   "metadata": {
    "collapsed": false
   }
  },
  {
   "cell_type": "code",
   "execution_count": 33,
   "outputs": [
    {
     "data": {
      "text/plain": "Text(0, 0.5, 'elapsed time (s)')"
     },
     "execution_count": 33,
     "metadata": {},
     "output_type": "execute_result"
    },
    {
     "data": {
      "text/plain": "<Figure size 640x480 with 1 Axes>",
      "image/png": "[encoded data removed]"
     },
     "metadata": {},
     "output_type": "display_data"
    }
   ],
   "source": [
    "p = compare.plot()\n",
    "p.set_ylabel('elapsed time (s)')"
   ],
   "metadata": {
    "collapsed": false
   }
  },
  {
   "cell_type": "code",
   "execution_count": 34,
   "outputs": [
    {
     "data": {
      "text/plain": "Text(0, 0.5, 'times (x)')"
     },
     "execution_count": 34,
     "metadata": {},
     "output_type": "execute_result"
    },
    {
     "data": {
      "text/plain": "<Figure size 640x480 with 1 Axes>",
      "image/png": "[encoded data removed]"
     },
     "metadata": {},
     "output_type": "display_data"
    }
   ],
   "source": [
    "compare['list experiment'] = compare['list experiment'] / compare['set experiment']\n",
    "compare['set experiment'] = 1\n",
    "p = compare.plot()\n",
    "p.set_ylabel('times (x)')"
   ],
   "metadata": {
    "collapsed": false,
    "ExecuteTime": {
     "start_time": "2023-12-07T19:11:32.949778Z",
     "end_time": "2023-12-07T19:11:33.025946Z"
    }
   }
  },
  {
   "cell_type": "code",
   "execution_count": 35,
   "outputs": [],
   "source": [
    "def m2_elapsed_experiment_set_specify_input(cleaned_description):\n",
    "    cleaned_description = cleaned_description.apply(lambda s: re.sub(r'[^A-Za-z]', ' ', s))\n",
    "    cleaned_description = cleaned_description.apply(lambda s: re.sub(r'\\s+', ' ', s))\n",
    "\n",
    "    tokenized_description = cleaned_description.apply(lambda s: word_tokenize(s))\n",
    "\n",
    "    stop_dict = set(stopwords.words())\n",
    "    sw_removed_description = tokenized_description.apply(lambda s: list(OrderedSet(s) - stop_dict))\n",
    "    sw_removed_description = sw_removed_description.apply(lambda s: [word for word in s if len(word) > 2])\n",
    "\n",
    "    concated = np.unique(np.concatenate([s for s in tokenized_description.values]))\n",
    "    stem_cache = {}\n",
    "    ps = PorterStemmer()\n",
    "    for s in concated:\n",
    "        stem_cache[s] = ps.stem(s)\n",
    "\n",
    "    stemmed_description = sw_removed_description.apply(lambda s: [stem_cache[w] for w in s])\n",
    "    cv = CountVectorizer(analyzer=lambda s: s)\n",
    "    X = cv.fit_transform(stemmed_description)\n",
    "\n",
    "    return stemmed_description"
   ],
   "metadata": {
    "collapsed": false,
    "ExecuteTime": {
     "start_time": "2023-12-07T19:11:37.367663Z",
     "end_time": "2023-12-07T19:11:37.373282Z"
    }
   }
  },
  {
   "cell_type": "code",
   "execution_count": 36,
   "outputs": [
    {
     "data": {
      "text/plain": "[1, 2, 4, 8]"
     },
     "execution_count": 36,
     "metadata": {},
     "output_type": "execute_result"
    }
   ],
   "source": [
    "import multiprocessing\n",
    "import time\n",
    "\n",
    "[2**i for i in range(int(np.ceil(np.log(multiprocessing.cpu_count()))) + 1)]"
   ],
   "metadata": {
    "collapsed": false,
    "ExecuteTime": {
     "start_time": "2023-12-07T19:11:46.554609Z",
     "end_time": "2023-12-07T19:11:46.565773Z"
    }
   }
  },
  {
   "cell_type": "code",
   "execution_count": 37,
   "outputs": [
    {
     "name": "stdout",
     "output_type": "stream",
     "text": [
      "1\n"
     ]
    },
    {
     "name": "stderr",
     "output_type": "stream",
     "text": [
      "/Users/yanwarutsuksawat/anaconda3/envs/se481/lib/python3.10/site-packages/numpy/core/fromnumeric.py:59: FutureWarning: 'Series.swapaxes' is deprecated and will be removed in a future version. Please use 'Series.transpose' instead.\n",
      "  return bound(*args, **kwds)\n"
     ]
    },
    {
     "name": "stdout",
     "output_type": "stream",
     "text": [
      "2\n",
      "4\n",
      "8\n"
     ]
    }
   ],
   "source": [
    "import multiprocessing\n",
    "import time\n",
    "\n",
    "cleaned_description = m1.get_and_clean_data()\n",
    "core_exp = {}\n",
    "\n",
    "for c in [2**i for i in range(int(np.ceil(np.log(multiprocessing.cpu_count()))) +1)]:\n",
    "    start = time.time()\n",
    "    print(c)\n",
    "    parsed_description_split = np.array_split(cleaned_description, c)\n",
    "    with multiprocessing.pool.ThreadPool(c) as pool:\n",
    "        pool.map(m2_elapsed_experiment_set_specify_input, parsed_description_split)\n",
    "    end = time.time()\n",
    "    core_exp[c] = end - start\n"
   ],
   "metadata": {
    "collapsed": false,
    "ExecuteTime": {
     "start_time": "2023-12-07T19:11:50.872464Z",
     "end_time": "2023-12-07T19:12:47.354652Z"
    }
   }
  },
  {
   "cell_type": "code",
   "execution_count": 108,
   "outputs": [
    {
     "data": {
      "text/plain": "{1: 16.381742238998413,\n 2: 13.897526025772095,\n 4: 12.546393156051636,\n 8: 12.308830976486206}"
     },
     "execution_count": 108,
     "metadata": {},
     "output_type": "execute_result"
    }
   ],
   "source": [
    "core_exp"
   ],
   "metadata": {
    "collapsed": false,
    "ExecuteTime": {
     "start_time": "2023-12-04T23:18:09.450157Z",
     "end_time": "2023-12-04T23:18:09.453814Z"
    }
   }
  },
  {
   "cell_type": "code",
   "execution_count": 109,
   "outputs": [],
   "source": [
    "df = pd.DataFrame.from_dict(core_exp, orient='index', columns=['#cores'])"
   ],
   "metadata": {
    "collapsed": false,
    "ExecuteTime": {
     "start_time": "2023-12-04T23:23:01.451589Z",
     "end_time": "2023-12-04T23:23:01.453178Z"
    }
   }
  },
  {
   "cell_type": "code",
   "execution_count": 110,
   "outputs": [
    {
     "data": {
      "text/plain": "Text(0, 0.5, 'elapsed time (s)')"
     },
     "execution_count": 110,
     "metadata": {},
     "output_type": "execute_result"
    },
    {
     "data": {
      "text/plain": "<Figure size 640x480 with 1 Axes>",
      "image/png": "[encoded data removed]"
     },
     "metadata": {},
     "output_type": "display_data"
    }
   ],
   "source": [
    "df = pd.DataFrame.from_dict(core_exp, orient='index', columns=['#cores'])\n",
    "p = df.plot()\n",
    "p.set_ylim(0, np.ceil(max(df['#cores'])) +1 )\n",
    "p.set_ylabel('elapsed time (s)')"
   ],
   "metadata": {
    "collapsed": false,
    "ExecuteTime": {
     "start_time": "2023-12-04T23:23:02.782271Z",
     "end_time": "2023-12-04T23:23:02.892188Z"
    }
   }
  },
  {
   "cell_type": "code",
   "execution_count": 111,
   "outputs": [
    {
     "data": {
      "text/plain": "Text(0, 0.5, 'speedup')"
     },
     "execution_count": 111,
     "metadata": {},
     "output_type": "execute_result"
    },
    {
     "data": {
      "text/plain": "<Figure size 640x480 with 1 Axes>",
      "image/png": "[encoded data removed]"
     },
     "metadata": {},
     "output_type": "display_data"
    }
   ],
   "source": [
    "df = df.apply(lambda s: df.loc[1]/s, axis=1)\n",
    "p = df.plot()\n",
    "p.set_ylabel('speedup')"
   ],
   "metadata": {
    "collapsed": false,
    "ExecuteTime": {
     "start_time": "2023-12-04T23:23:57.539704Z",
     "end_time": "2023-12-04T23:23:57.610894Z"
    }
   }
  }
 ],
 "metadata": {
  "kernelspec": {
   "display_name": "Python 3",
   "language": "python",
   "name": "python3"
  },
  "language_info": {
   "codemirror_mode": {
    "name": "ipython",
    "version": 2
   },
   "file_extension": ".py",
   "mimetype": "text/x-python",
   "name": "python",
   "nbconvert_exporter": "python",
   "pygments_lexer": "ipython2",
   "version": "2.7.6"
  }
 },
 "nbformat": 4,
 "nbformat_minor": 0
}
